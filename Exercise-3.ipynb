{
 "cells": [
  {
   "cell_type": "code",
   "execution_count": 2,
   "metadata": {},
   "outputs": [],
   "source": [
    "import sqlite3\n",
    "import pandas as pd\n",
    "import uuid\n",
    "\n",
    "\n",
    "connection = sqlite3.connect('books.db')"
   ]
  },
  {
   "cell_type": "code",
   "execution_count": 4,
   "metadata": {},
   "outputs": [
    {
     "name": "stdout",
     "output_type": "stream",
     "text": [
      "      last\n",
      "0     Wald\n",
      "1    Quirk\n",
      "2      Doe\n",
      "3      Doe\n",
      "4      Doe\n",
      "5      Doe\n",
      "6      Doe\n",
      "7      Doe\n",
      "8      Doe\n",
      "9      Doe\n",
      "10     Doe\n",
      "11     Doe\n",
      "12     Doe\n",
      "13     Doe\n",
      "14  Deitel\n",
      "15  Deitel\n",
      "16  Deitel\n"
     ]
    }
   ],
   "source": [
    "query_a = \"\"\"\n",
    "    SELECT last\n",
    "    FROM authors\n",
    "    ORDER BY last DESC \n",
    "\"\"\"     \n",
    "\n",
    "result_a = pd.read_sql(query_a, connection)\n",
    "print(result_a)"
   ]
  },
  {
   "cell_type": "markdown",
   "metadata": {},
   "source": [
    "b) # Query to select book titles in ascending order"
   ]
  },
  {
   "cell_type": "code",
   "execution_count": 5,
   "metadata": {},
   "outputs": [
    {
     "name": "stdout",
     "output_type": "stream",
     "text": [
      "                               title\n",
      "0          Android 6 for Programmers\n",
      "1             Android How to Program\n",
      "2                   C How to Program\n",
      "3                 C++ How to Program\n",
      "4      Internet & WWW How to Program\n",
      "5      Intro to Python for CS and DS\n",
      "6                Java How to Program\n",
      "7                     New Book Title\n",
      "8                     New Book Title\n",
      "9                     New Book Title\n",
      "10                    New Book Title\n",
      "11                    New Book Title\n",
      "12                    New Book Title\n",
      "13                    New Book Title\n",
      "14  Visual Basic 2012 How to Program\n",
      "15          Visual C# How to Program\n",
      "16         Visual C++ How to Program\n"
     ]
    }
   ],
   "source": [
    "query_b = \"\"\"\n",
    "    SELECT title\n",
    "    FROM titles\n",
    "    ORDER BY title ASC\n",
    "\"\"\" \n",
    "\n",
    "result_b = pd.read_sql(query_b, connection)\n",
    "print(result_b)"
   ]
  },
  {
   "cell_type": "markdown",
   "metadata": {},
   "source": [
    "#c) Use an INNER JOIN to select all the books for a specific author. Include the title, copyright year, and ISBN. Order the information alphabetically by title:"
   ]
  },
  {
   "cell_type": "code",
   "execution_count": 6,
   "metadata": {},
   "outputs": [
    {
     "name": "stdout",
     "output_type": "stream",
     "text": [
      "                               title copyright              isbn\n",
      "0          Android 6 for Programmers      2016        0134289366\n",
      "1             Android How to Program      2017        0134444302\n",
      "2                   C How to Program      2016        0133976890\n",
      "3                 C++ How to Program      2017        0134448235\n",
      "4      Internet & WWW How to Program      2012        0132151006\n",
      "5      Intro to Python for CS and DS      2020        0135404673\n",
      "6                Java How to Program      2018        0134743350\n",
      "7                     New Book Title      2023                  \n",
      "8                     New Book Title      2023       author_ISBN\n",
      "9                     New Book Title      2023      authors_ISBN\n",
      "10                    New Book Title      2023        authors_id\n",
      "11                    New Book Title      2023     c1c37c51-0d44\n",
      "12                    New Book Title      2023     f61fd787-a13c\n",
      "13                    New Book Title      2023  unique_isbn_here\n",
      "14  Visual Basic 2012 How to Program      2014        0133406954\n",
      "15          Visual C# How to Program      2017        0134601548\n",
      "16         Visual C++ How to Program      2008        0136151574\n"
     ]
    }
   ],
   "source": [
    "author_id = 1\n",
    "\n",
    "query_c = f\"\"\"\n",
    "    SELECT titles.title, titles.copyright, author_ISBN.isbn\n",
    "    FROM titles\n",
    "    INNER JOIN author_ISBN ON titles.isbn = author_ISBN.isbn\n",
    "    WHERE author_ISBN.id = {author_id}\n",
    "    ORDER BY titles.title  ASC \n",
    "\"\"\"    \n",
    "\n",
    "result_c = pd.read_sql(query_c, connection)\n",
    "print(result_c)"
   ]
  },
  {
   "cell_type": "markdown",
   "metadata": {},
   "source": [
    "#d) Insert a new author into the authors table:"
   ]
  },
  {
   "cell_type": "code",
   "execution_count": 7,
   "metadata": {},
   "outputs": [],
   "source": [
    "query_d = \"\"\"\n",
    "    INSERT INTO authors (first, last)\n",
    "    VALUES ('John', 'Doe')\n",
    "\"\"\"    \n",
    "\n",
    "connection.execute(query_d)\n",
    "connection.commit()\n"
   ]
  },
  {
   "cell_type": "markdown",
   "metadata": {},
   "source": [
    "#e) Insert a new title for an author:"
   ]
  },
  {
   "cell_type": "code",
   "execution_count": 8,
   "metadata": {},
   "outputs": [],
   "source": [
    "author_id = 1 \n",
    "isbn = str(uuid.uuid4())[:13]\n",
    "\n",
    "query_e = f\"\"\"\n",
    "    INSERT INTO titles (isbn, title, edition, copyright)\n",
    "    VALUES ('{isbn}', 'New Book Title', '1st Edition', '2023')\n",
    "\"\"\"\n",
    "\n",
    "connection.execute(query_e)\n",
    "connection.commit()\n",
    "\n",
    "query_e_author_isbn = f\"\"\"\n",
    "    INSERT INTO author_ISBN (id, isbn)\n",
    "    VALUES ({author_id}, '{isbn}')\n",
    "\"\"\" \n",
    "\n",
    "connection.execute(query_e_author_isbn)\n",
    "connection.commit()\n"
   ]
  },
  {
   "cell_type": "code",
   "execution_count": null,
   "metadata": {},
   "outputs": [],
   "source": []
  }
 ],
 "metadata": {
  "kernelspec": {
   "display_name": "Python 3",
   "language": "python",
   "name": "python3"
  },
  "language_info": {
   "codemirror_mode": {
    "name": "ipython",
    "version": 3
   },
   "file_extension": ".py",
   "mimetype": "text/x-python",
   "name": "python",
   "nbconvert_exporter": "python",
   "pygments_lexer": "ipython3",
   "version": "3.11.2"
  }
 },
 "nbformat": 4,
 "nbformat_minor": 2
}
